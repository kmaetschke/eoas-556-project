{
 "cells": [
  {
   "cell_type": "code",
   "execution_count": null,
   "metadata": {
    "vscode": {
     "languageId": "plaintext"
    }
   },
   "outputs": [],
   "source": [
    "# import gmt gravfft (calculate gravity effect of bathymetry-seamount interface)\n",
    "# import simpeg \n",
    "# import choclo (Fatiando a Terra, 2024) (calculate components of gravitational tensor for the synthetic model)\n",
    "# import grdflexure GMT module (wessel, 2019) (calculate flexural deformation of lithosphere)"
   ]
  },
  {
   "cell_type": "markdown",
   "metadata": {},
   "source": [
    "## Outline\n",
    "- download bathymetry data from GEBCO\n",
    "- make model of seamount in the shape of Kolumbo volcano\n",
    "- introduce magma chamber in location, size and density corresponding to results from previous seismic tomography studies\n",
    "- calculate gravity gradient effect of bathymetry (use different data set for bathymetry than satellite altimetry, to ensure independence) using Parker's expansion for a range of reference crustal densities\n",
    "- filter \n",
    "- subtract bathymetry gravity effect from satellite altimetry gravity gradient\n",
    "- model flexural compensation of seamount ()\n",
    "\n",
    "\n",
    "find out\n",
    "-read seismo papers on Kolumbo volcano\n",
    "\n"
   ]
  },
  {
   "cell_type": "markdown",
   "metadata": {},
   "source": []
  }
 ],
 "metadata": {
  "language_info": {
   "name": "python"
  }
 },
 "nbformat": 4,
 "nbformat_minor": 2
}
