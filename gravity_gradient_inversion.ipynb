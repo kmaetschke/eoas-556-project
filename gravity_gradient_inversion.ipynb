{
 "cells": [
  {
   "cell_type": "code",
   "execution_count": 1,
   "metadata": {},
   "outputs": [],
   "source": [
    "# import gmt gravfft (calculate gravity effect of bathymetry-seamount interface)\n",
    "# import simpeg \n",
    "# import choclo (Fatiando a Terra, 2024) (calculate components of gravitational tensor for the synthetic model)\n",
    "# import grdflexure GMT module (wessel, 2019) (calculate flexural deformation of lithosphere)\n",
    "\n",
    "import numpy as np\n",
    "from scipy.interpolate import LinearNDInterpolator\n",
    "import matplotlib as mpl\n",
    "import matplotlib.pyplot as plt\n",
    "import pandas as pd\n",
    "\n",
    "from discretize import TreeMesh\n",
    "from discretize.utils import mkvc, refine_tree_xyz, active_from_xyz\n",
    "from simpeg.utils import plot2Ddata, model_builder\n",
    "from simpeg import maps\n",
    "from simpeg.potential_fields import gravity"
   ]
  },
  {
   "cell_type": "markdown",
   "metadata": {},
   "source": [
    "## Outline\n",
    "- download bathymetry data from GEBCO\n",
    "- make model of seamount in the shape of Kolumbo volcano\n",
    "- introduce magma chamber in location, size and density corresponding to results from previous seismic tomography studies\n",
    "- calculate gravity gradient effect of bathymetry (use different data set for bathymetry than satellite altimetry, to ensure independence) using Parker's expansion for a range of reference crustal densities\n",
    "- filter \n",
    "- subtract bathymetry gravity effect from satellite altimetry gravity gradient\n",
    "- model flexural compensation of seamount ()\n",
    "\n",
    "\n",
    "find out\n",
    "-read seismo papers on Kolumbo volcano\n",
    "\n"
   ]
  },
  {
   "cell_type": "markdown",
   "metadata": {},
   "source": [
    "### Import bathymetry data from GEBCO 2024 \n",
    "(https://download.gebco.net)"
   ]
  },
  {
   "cell_type": "code",
   "execution_count": 13,
   "metadata": {},
   "outputs": [
    {
     "name": "stderr",
     "output_type": "stream",
     "text": [
      "/var/folders/kv/9c2wczl17lzbpv6zgms9ms480000gn/T/ipykernel_33242/1999046034.py:2: ParserWarning: Falling back to the 'python' engine because the 'c' engine does not support regex separators (separators > 1 char and different from '\\s+' are interpreted as regex); you can avoid this warning by specifying engine='python'.\n",
      "  topo_file = pd.read_csv('./GEBCO_bathymetry/kolumbo_bathymetry.xyz', sep='\\s', header=None)\n"
     ]
    }
   ],
   "source": [
    "#columns = ['x', 'y', 'z']\n",
    "topo_file = pd.read_csv('./GEBCO_bathymetry/kolumbo_bathymetry.xyz', sep='\\s', header=None)\n",
    "topo_file.columns = ['x', 'y', 'z']\n",
    "\n",
    "x_topo = topo_file['x']\n",
    "y_topo = topo_file['y']\n",
    "z_topo = topo_file['z']\n",
    "\n",
    "xyz_topo = np.c_[x_topo, y_topo, z_topo]"
   ]
  },
  {
   "cell_type": "markdown",
   "metadata": {},
   "source": [
    "### Define the Survey"
   ]
  },
  {
   "cell_type": "code",
   "execution_count": null,
   "metadata": {},
   "outputs": [],
   "source": []
  }
 ],
 "metadata": {
  "kernelspec": {
   "display_name": "Python 3",
   "language": "python",
   "name": "python3"
  },
  "language_info": {
   "codemirror_mode": {
    "name": "ipython",
    "version": 3
   },
   "file_extension": ".py",
   "mimetype": "text/x-python",
   "name": "python",
   "nbconvert_exporter": "python",
   "pygments_lexer": "ipython3",
   "version": "3.11.11"
  }
 },
 "nbformat": 4,
 "nbformat_minor": 2
}
